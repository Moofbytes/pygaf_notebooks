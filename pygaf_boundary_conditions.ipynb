{
 "cells": [
  {
   "cell_type": "markdown",
   "id": "e8dfa654",
   "metadata": {},
   "source": [
    "# PyGAF Boundary Conditions\n",
    "This notebook demonstrates PyGAF boundary conditions (BC) types. The BC classes are used with general solution classes that require boundary conditions to be solved."
   ]
  },
  {
   "cell_type": "markdown",
   "id": "0aefbe91",
   "metadata": {},
   "source": [
    "Installed `PyGAF` testing."
   ]
  },
  {
   "cell_type": "code",
   "execution_count": 1,
   "id": "ea908570",
   "metadata": {},
   "outputs": [],
   "source": [
    "import os\n",
    "import pygaf\n",
    "%matplotlib inline"
   ]
  },
  {
   "cell_type": "markdown",
   "id": "45bf883a",
   "metadata": {},
   "source": [
    "Local testing."
   ]
  },
  {
   "cell_type": "code",
   "execution_count": 1,
   "id": "4cdc2c2e",
   "metadata": {
    "jupyter": {
     "source_hidden": true
    }
   },
   "outputs": [],
   "source": [
    "import os\n",
    "import sys\n",
    "sys.path.insert(0, os.path.abspath('../pygaf'))\n",
    "import pygaf"
   ]
  },
  {
   "cell_type": "markdown",
   "id": "17d8f4f0",
   "metadata": {},
   "source": [
    "## Steady state, Type 1 boundary condition (prescribed head)\n",
    "Default values."
   ]
  },
  {
   "cell_type": "code",
   "execution_count": 2,
   "id": "4afcf6b7",
   "metadata": {},
   "outputs": [
    {
     "name": "stdout",
     "output_type": "stream",
     "text": [
      "BOUNDARY CONDITION INFORMATION\n",
      "------------------------------\n",
      "BC type 1, {'head': 10.0}\n",
      "\n",
      "{'head': 10.0}\n"
     ]
    }
   ],
   "source": [
    "bc1 = pygaf.SteadyBC(type=1)\n",
    "bc1.info()\n",
    "print(bc1.value)"
   ]
  },
  {
   "cell_type": "markdown",
   "id": "1d8f78aa",
   "metadata": {},
   "source": [
    "Assign a new value."
   ]
  },
  {
   "cell_type": "code",
   "execution_count": 3,
   "id": "cbfa220d",
   "metadata": {},
   "outputs": [
    {
     "name": "stdout",
     "output_type": "stream",
     "text": [
      "BOUNDARY CONDITION INFORMATION\n",
      "------------------------------\n",
      "BC type 1, {'head': 20}\n",
      "\n",
      "20\n"
     ]
    }
   ],
   "source": [
    "bc1.head = 20\n",
    "bc1.info()\n",
    "print(bc1.head)"
   ]
  },
  {
   "cell_type": "markdown",
   "id": "21c9b3de",
   "metadata": {},
   "source": [
    "## Steady state, Type 2 boundary condition (prescribed flow)\n",
    "Default values."
   ]
  },
  {
   "cell_type": "code",
   "execution_count": 4,
   "id": "20e9e0c4",
   "metadata": {},
   "outputs": [
    {
     "name": "stdout",
     "output_type": "stream",
     "text": [
      "BOUNDARY CONDITION INFORMATION\n",
      "------------------------------\n",
      "BC type 2, {'flow': 0.0}\n",
      "\n",
      "0.0\n"
     ]
    }
   ],
   "source": [
    "bc2 = pygaf.SteadyBC(type=2)\n",
    "bc2.info()\n",
    "print(bc2.flow)"
   ]
  },
  {
   "cell_type": "markdown",
   "id": "034a8d47",
   "metadata": {},
   "source": [
    "Assign a new value."
   ]
  },
  {
   "cell_type": "code",
   "execution_count": 5,
   "id": "b77f0c9f",
   "metadata": {},
   "outputs": [
    {
     "name": "stdout",
     "output_type": "stream",
     "text": [
      "BOUNDARY CONDITION INFORMATION\n",
      "------------------------------\n",
      "BC type 2, {'flow': 1000}\n",
      "\n",
      "1000\n"
     ]
    }
   ],
   "source": [
    "bc2.flow = 1000\n",
    "bc2.info()\n",
    "print(bc2.flow)"
   ]
  },
  {
   "cell_type": "markdown",
   "id": "f5770274",
   "metadata": {},
   "source": [
    "## Steady state, Type 3 boundary condition (external head and conductance)\n",
    "Default values."
   ]
  },
  {
   "cell_type": "code",
   "execution_count": 6,
   "id": "09b3f33c",
   "metadata": {},
   "outputs": [
    {
     "name": "stdout",
     "output_type": "stream",
     "text": [
      "BOUNDARY CONDITION INFORMATION\n",
      "------------------------------\n",
      "BC type 3, {'head': 10.0, 'cond': 0.0}\n",
      "\n",
      "10.0 0.0\n"
     ]
    }
   ],
   "source": [
    "bc3 = pygaf.SteadyBC(type=3)\n",
    "bc3.info()\n",
    "print(bc3.head, bc3.cond)"
   ]
  },
  {
   "cell_type": "code",
   "execution_count": 7,
   "id": "c6b0d907",
   "metadata": {},
   "outputs": [
    {
     "name": "stdout",
     "output_type": "stream",
     "text": [
      "BOUNDARY CONDITION INFORMATION\n",
      "------------------------------\n",
      "BC type 3, {'head': 15, 'cond': 0.01}\n",
      "\n",
      "15 0.01\n"
     ]
    }
   ],
   "source": [
    "bc3.head = 15\n",
    "bc3.cond = 0.01\n",
    "bc3.info()\n",
    "print(bc3.head, bc3.cond)"
   ]
  },
  {
   "cell_type": "markdown",
   "id": "c660a5a0",
   "metadata": {},
   "source": [
    "Note that conductance is specified as a single value. A PyGAF utility is available to calculate conducance from its component values: hydraulic conductivity `K`, thickness `B`, width `W` and length `L`. For 1D flow, width `W` should be equal to 1.0, which is the default value."
   ]
  },
  {
   "cell_type": "code",
   "execution_count": 8,
   "id": "781b5519",
   "metadata": {},
   "outputs": [
    {
     "name": "stdout",
     "output_type": "stream",
     "text": [
      "0.05\n"
     ]
    }
   ],
   "source": [
    "c = pygaf.utils.conductance(K=1, B=10, L=200)\n",
    "print(c)"
   ]
  },
  {
   "cell_type": "code",
   "execution_count": null,
   "id": "322f9b0e",
   "metadata": {},
   "outputs": [],
   "source": []
  }
 ],
 "metadata": {
  "kernelspec": {
   "display_name": "Python 3",
   "language": "python",
   "name": "python3"
  },
  "language_info": {
   "codemirror_mode": {
    "name": "ipython",
    "version": 3
   },
   "file_extension": ".py",
   "mimetype": "text/x-python",
   "name": "python",
   "nbconvert_exporter": "python",
   "pygments_lexer": "ipython3",
   "version": "3.7.2"
  }
 },
 "nbformat": 4,
 "nbformat_minor": 5
}
