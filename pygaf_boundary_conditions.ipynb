{
 "cells": [
  {
   "cell_type": "markdown",
   "id": "45756a99",
   "metadata": {},
   "source": [
    "# PyGAF Boundary Conditions"
   ]
  },
  {
   "cell_type": "markdown",
   "id": "20a35dae",
   "metadata": {},
   "source": [
    "Installed `PyGAF` testing."
   ]
  },
  {
   "cell_type": "code",
   "execution_count": null,
   "id": "7ce687d8",
   "metadata": {},
   "outputs": [],
   "source": [
    "import pygaf"
   ]
  },
  {
   "cell_type": "markdown",
   "id": "9055d4db",
   "metadata": {},
   "source": [
    "Local testing."
   ]
  },
  {
   "cell_type": "code",
   "execution_count": 1,
   "id": "aa3f2ca9",
   "metadata": {},
   "outputs": [],
   "source": [
    "import os\n",
    "import sys\n",
    "sys.path.insert(0, os.path.abspath('../pygaf'))\n",
    "import pygaf"
   ]
  },
  {
   "cell_type": "markdown",
   "id": "dc2d2424",
   "metadata": {},
   "source": [
    "## Type 1 boundary condition"
   ]
  },
  {
   "cell_type": "code",
   "execution_count": 2,
   "id": "3226dcbd",
   "metadata": {},
   "outputs": [
    {
     "data": {
      "text/plain": [
       "{'head': 10.0}"
      ]
     },
     "execution_count": 2,
     "metadata": {},
     "output_type": "execute_result"
    }
   ],
   "source": [
    "bc1 = pygaf.SteadyBC(type=1)\n",
    "bc1.value"
   ]
  },
  {
   "cell_type": "code",
   "execution_count": 3,
   "id": "d51329d6",
   "metadata": {},
   "outputs": [
    {
     "data": {
      "text/plain": [
       "{'head': 20}"
      ]
     },
     "execution_count": 3,
     "metadata": {},
     "output_type": "execute_result"
    }
   ],
   "source": [
    "bc1.head = 20\n",
    "bc1.value"
   ]
  },
  {
   "cell_type": "markdown",
   "id": "55249ff1",
   "metadata": {},
   "source": [
    "## Type 2 boundary condition"
   ]
  },
  {
   "cell_type": "code",
   "execution_count": 4,
   "id": "21b6ca81",
   "metadata": {},
   "outputs": [
    {
     "data": {
      "text/plain": [
       "{'flow': 0.0}"
      ]
     },
     "execution_count": 4,
     "metadata": {},
     "output_type": "execute_result"
    }
   ],
   "source": [
    "bc2 = pygaf.SteadyBC(type=2)\n",
    "bc2.value"
   ]
  },
  {
   "cell_type": "code",
   "execution_count": 5,
   "id": "ce3b01ac",
   "metadata": {},
   "outputs": [
    {
     "data": {
      "text/plain": [
       "{'flow': 1000}"
      ]
     },
     "execution_count": 5,
     "metadata": {},
     "output_type": "execute_result"
    }
   ],
   "source": [
    "bc2.flow = 1000\n",
    "bc2.value"
   ]
  },
  {
   "cell_type": "markdown",
   "id": "18ca0c25",
   "metadata": {},
   "source": [
    "## Type 3 boundary condition"
   ]
  },
  {
   "cell_type": "code",
   "execution_count": 6,
   "id": "32d5bbf7",
   "metadata": {},
   "outputs": [
    {
     "data": {
      "text/plain": [
       "{'head': 10.0, 'cond': 0.0}"
      ]
     },
     "execution_count": 6,
     "metadata": {},
     "output_type": "execute_result"
    }
   ],
   "source": [
    "bc3 = pygaf.SteadyBC(type=3)\n",
    "bc3.value"
   ]
  },
  {
   "cell_type": "code",
   "execution_count": 7,
   "id": "64ca0a3b",
   "metadata": {},
   "outputs": [
    {
     "data": {
      "text/plain": [
       "{'head': 15, 'cond': 0.01}"
      ]
     },
     "execution_count": 7,
     "metadata": {},
     "output_type": "execute_result"
    }
   ],
   "source": [
    "bc3.head = 15\n",
    "bc3.cond = 0.01\n",
    "bc3.value"
   ]
  },
  {
   "cell_type": "markdown",
   "id": "77ecbc6a",
   "metadata": {},
   "source": [
    "Boundary conductance is specified as a single value; noting a utility is available to calculate conducance from its component values `K`, `B`, `W` and `L`. For 1D flow the component `W` should be equal to 1.0, which is the default value."
   ]
  },
  {
   "cell_type": "code",
   "execution_count": 8,
   "id": "0e973736",
   "metadata": {},
   "outputs": [
    {
     "data": {
      "text/plain": [
       "0.05"
      ]
     },
     "execution_count": 8,
     "metadata": {},
     "output_type": "execute_result"
    }
   ],
   "source": [
    "pygaf.utils.conductance(K=1, B=10, L=200)"
   ]
  },
  {
   "cell_type": "code",
   "execution_count": null,
   "id": "3e68100b",
   "metadata": {},
   "outputs": [],
   "source": []
  }
 ],
 "metadata": {
  "kernelspec": {
   "display_name": "Python 3 (ipykernel)",
   "language": "python",
   "name": "python3"
  },
  "language_info": {
   "codemirror_mode": {
    "name": "ipython",
    "version": 3
   },
   "file_extension": ".py",
   "mimetype": "text/x-python",
   "name": "python",
   "nbconvert_exporter": "python",
   "pygments_lexer": "ipython3",
   "version": "3.7.11"
  }
 },
 "nbformat": 4,
 "nbformat_minor": 5
}
