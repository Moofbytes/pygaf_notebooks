{
 "cells": [
  {
   "cell_type": "markdown",
   "id": "20c3019c",
   "metadata": {},
   "source": [
    "# PyGAF Boundary Conditions"
   ]
  },
  {
   "cell_type": "markdown",
   "id": "3882b65d",
   "metadata": {},
   "source": [
    "Installed `PyGAF` testing."
   ]
  },
  {
   "cell_type": "code",
   "execution_count": null,
   "id": "902611b4",
   "metadata": {},
   "outputs": [],
   "source": [
    "import pygaf"
   ]
  },
  {
   "cell_type": "markdown",
   "id": "d87e2b21",
   "metadata": {},
   "source": [
    "Local testing."
   ]
  },
  {
   "cell_type": "code",
   "execution_count": 1,
   "id": "087e2d91",
   "metadata": {},
   "outputs": [],
   "source": [
    "import os\n",
    "import sys\n",
    "sys.path.insert(0, os.path.abspath('../pygaf'))\n",
    "import pygaf"
   ]
  },
  {
   "cell_type": "markdown",
   "id": "3750471f",
   "metadata": {},
   "source": [
    "## Type 1 boundary condition"
   ]
  },
  {
   "cell_type": "code",
   "execution_count": 2,
   "id": "f651c27d",
   "metadata": {},
   "outputs": [
    {
     "data": {
      "text/plain": [
       "{'head': 10.0}"
      ]
     },
     "execution_count": 2,
     "metadata": {},
     "output_type": "execute_result"
    }
   ],
   "source": [
    "bc1 = pygaf.SteadyBC(type=1)\n",
    "bc1.value"
   ]
  },
  {
   "cell_type": "code",
   "execution_count": 3,
   "id": "31522e20",
   "metadata": {},
   "outputs": [
    {
     "data": {
      "text/plain": [
       "{'head': 20}"
      ]
     },
     "execution_count": 3,
     "metadata": {},
     "output_type": "execute_result"
    }
   ],
   "source": [
    "bc1.head = 20\n",
    "bc1.value"
   ]
  },
  {
   "cell_type": "markdown",
   "id": "68b1d147",
   "metadata": {},
   "source": [
    "## Type 2 boundary condition"
   ]
  },
  {
   "cell_type": "code",
   "execution_count": 4,
   "id": "949b96cb",
   "metadata": {},
   "outputs": [
    {
     "data": {
      "text/plain": [
       "{'flow': 0.0}"
      ]
     },
     "execution_count": 4,
     "metadata": {},
     "output_type": "execute_result"
    }
   ],
   "source": [
    "bc2 = pygaf.SteadyBC(type=2)\n",
    "bc2.value"
   ]
  },
  {
   "cell_type": "code",
   "execution_count": 5,
   "id": "74ac5f51",
   "metadata": {},
   "outputs": [
    {
     "data": {
      "text/plain": [
       "{'flow': 1000}"
      ]
     },
     "execution_count": 5,
     "metadata": {},
     "output_type": "execute_result"
    }
   ],
   "source": [
    "bc2.flow = 1000\n",
    "bc2.value"
   ]
  },
  {
   "cell_type": "markdown",
   "id": "7f598004",
   "metadata": {},
   "source": [
    "## Type 3 boundary condition"
   ]
  },
  {
   "cell_type": "code",
   "execution_count": 6,
   "id": "2245aa73",
   "metadata": {},
   "outputs": [
    {
     "data": {
      "text/plain": [
       "{'head': 10.0, 'cond': 0.0}"
      ]
     },
     "execution_count": 6,
     "metadata": {},
     "output_type": "execute_result"
    }
   ],
   "source": [
    "bc3 = pygaf.SteadyBC(type=3)\n",
    "bc3.value"
   ]
  },
  {
   "cell_type": "code",
   "execution_count": 7,
   "id": "dff298a8",
   "metadata": {},
   "outputs": [
    {
     "data": {
      "text/plain": [
       "{'head': 15, 'cond': 0.01}"
      ]
     },
     "execution_count": 7,
     "metadata": {},
     "output_type": "execute_result"
    }
   ],
   "source": [
    "bc3.head = 15\n",
    "bc3.cond = 0.01\n",
    "bc3.value"
   ]
  },
  {
   "cell_type": "markdown",
   "id": "9cbf4339",
   "metadata": {},
   "source": [
    "Boundary conductance is specified as a single value; noting a utility is available to calculate conducance from its component values `K`, `B`, `W` and `L`. For 1D flow the component `W` should be equal to 1.0, which is the default value."
   ]
  },
  {
   "cell_type": "code",
   "execution_count": 8,
   "id": "b2a1b8e6",
   "metadata": {},
   "outputs": [
    {
     "data": {
      "text/plain": [
       "0.05"
      ]
     },
     "execution_count": 8,
     "metadata": {},
     "output_type": "execute_result"
    }
   ],
   "source": [
    "pygaf.utils.conductance(K=1, B=10, L=200)"
   ]
  },
  {
   "cell_type": "code",
   "execution_count": null,
   "id": "c67bbb4d",
   "metadata": {},
   "outputs": [],
   "source": []
  }
 ],
 "metadata": {
  "kernelspec": {
   "display_name": "Python 3",
   "language": "python",
   "name": "python3"
  },
  "language_info": {
   "codemirror_mode": {
    "name": "ipython",
    "version": 3
   },
   "file_extension": ".py",
   "mimetype": "text/x-python",
   "name": "python",
   "nbconvert_exporter": "python",
   "pygments_lexer": "ipython3",
   "version": "3.7.2"
  }
 },
 "nbformat": 4,
 "nbformat_minor": 5
}
