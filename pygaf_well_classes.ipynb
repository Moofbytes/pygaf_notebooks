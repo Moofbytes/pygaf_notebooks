{
 "cells": [
  {
   "cell_type": "markdown",
   "metadata": {},
   "source": [
    "# PyGAF Well Classes\n",
    "This notebook demonstrates the basic features of PyGAF well classes."
   ]
  },
  {
   "cell_type": "markdown",
   "metadata": {},
   "source": [
    "Installed `PyGAF` testing"
   ]
  },
  {
   "cell_type": "code",
   "execution_count": 1,
   "metadata": {},
   "outputs": [],
   "source": [
    "import os\n",
    "import pygaf\n",
    "%matplotlib inline"
   ]
  },
  {
   "cell_type": "markdown",
   "metadata": {},
   "source": [
    "Local testing"
   ]
  },
  {
   "cell_type": "code",
   "execution_count": 1,
   "metadata": {
    "jupyter": {
     "source_hidden": true
    }
   },
   "outputs": [],
   "source": [
    "import os\n",
    "import sys\n",
    "sys.path.insert(0, os.path.abspath('../pygaf'))\n",
    "import pygaf"
   ]
  },
  {
   "cell_type": "markdown",
   "metadata": {},
   "source": [
    "## Steady state well `SteadyWell` class\n",
    "The default `SteadyWell` object has well coordinates `x`=0 and `y`=0, well radius `r`= 0.05, penetration fraction `pf`= 1 and well rate `q`= 0. Exceptions will occur if invalid values are provided for `r` or `pf`. The well rate can be negative (state: extract), positive (state: inject) of zero (state: off).\n",
    "\n",
    "Instantiate a default steady state well object and display the well information."
   ]
  },
  {
   "cell_type": "code",
   "execution_count": 2,
   "metadata": {},
   "outputs": [
    {
     "name": "stdout",
     "output_type": "stream",
     "text": [
      "WELL INFORMATION\n",
      "----------------\n",
      "Type: Steady state\n",
      "Name: Steady state flowing well\n",
      "Coordinates: 0.0 , 0.0\n",
      "Radius: 0.05 [L]\n",
      "Penetration: 1\n",
      "Well rate: 0.0 [L3/T]\n",
      "State: off\n",
      "\n"
     ]
    }
   ],
   "source": [
    "W1 = pygaf.SteadyWell()\n",
    "W1.info()"
   ]
  },
  {
   "cell_type": "markdown",
   "metadata": {},
   "source": [
    "Change the well properties and re-display the well information."
   ]
  },
  {
   "cell_type": "code",
   "execution_count": 3,
   "metadata": {},
   "outputs": [
    {
     "name": "stdout",
     "output_type": "stream",
     "text": [
      "WELL INFORMATION\n",
      "----------------\n",
      "Type: Steady state\n",
      "Name: Production bore 1\n",
      "Coordinates: 500 , 250\n",
      "Radius: 0.1 [L]\n",
      "Penetration: 1\n",
      "Well rate: -1000 [L3/T]\n",
      "State: extract\n",
      "\n"
     ]
    }
   ],
   "source": [
    "W1.name = 'Production bore 1'\n",
    "W1.r = 0.1\n",
    "W1.q = -1000\n",
    "W1.x = 500\n",
    "W1.y = 250\n",
    "W1.info()"
   ]
  },
  {
   "cell_type": "markdown",
   "metadata": {},
   "source": [
    "## Transient well `TransientWell` class\n",
    "The default `TransientWell` object has well coordinates `x`= 0 and `y`= 0, well radius `r`= 0.05, penetration fraction `pf`= 1, the default `StressSeries` class and drawing width `dw`= 8. The well rates can be negative (state: extract), positive (state: inject) or zero (state: off). Exceptions will occur if invalid values are provided for `r` or `pf`.\n",
    "\n",
    "Instantiate a default transient well object, display the well information and plot the stress series."
   ]
  },
  {
   "cell_type": "code",
   "execution_count": 7,
   "metadata": {},
   "outputs": [
    {
     "name": "stdout",
     "output_type": "stream",
     "text": [
      "WELL INFORMATION\n",
      "----------------\n",
      "Type: Transient state\n",
      "Name: Transient flowing well\n",
      "Coordinates: 0.0 , 0.0\n",
      "Radius: 0.05 [L]\n",
      "Penetration: 1\n",
      "Stress periods: 1\n",
      "Unique well states: ['off']\n",
      "\n"
     ]
    },
    {
     "data": {
      "image/png": "[encoded data removed]",
      "text/plain": [
       "<Figure size 576x192 with 1 Axes>"
      ]
     },
     "metadata": {
      "needs_background": "light"
     },
     "output_type": "display_data"
    }
   ],
   "source": [
    "W2 = pygaf.TransientWell()\n",
    "W2.info()\n",
    "W2.ss.plot()"
   ]
  },
  {
   "cell_type": "markdown",
   "metadata": {},
   "source": [
    "Change the stress series and redraw."
   ]
  },
  {
   "cell_type": "code",
   "execution_count": 8,
   "metadata": {},
   "outputs": [
    {
     "data": {
      "image/png": "[encoded data removed]",
      "text/plain": [
       "<Figure size 576x192 with 1 Axes>"
      ]
     },
     "metadata": {
      "needs_background": "light"
     },
     "output_type": "display_data"
    }
   ],
   "source": [
    "W2.ss.periods = [10, 10, 25, 15]\n",
    "W2.ss.values = [-75, -500, 0, 460]\n",
    "W2.ss.plot()"
   ]
  },
  {
   "cell_type": "markdown",
   "metadata": {},
   "source": [
    "Load a stress series from a .csv file and create a transient well."
   ]
  },
  {
   "cell_type": "code",
   "execution_count": 9,
   "metadata": {},
   "outputs": [
    {
     "name": "stdout",
     "output_type": "stream",
     "text": [
      "WELL INFORMATION\n",
      "----------------\n",
      "Type: Transient state\n",
      "Name: Production bore 3\n",
      "Coordinates: 2000 , 4200\n",
      "Radius: 0.05 [L]\n",
      "Penetration: 1\n",
      "Stress periods: 4\n",
      "Unique well states: ['inject', 'extract', 'off']\n",
      "\n"
     ]
    },
    {
     "data": {
      "image/png": "[encoded data removed]",
      "text/plain": [
       "<Figure size 576x192 with 1 Axes>"
      ]
     },
     "metadata": {
      "needs_background": "light"
     },
     "output_type": "display_data"
    }
   ],
   "source": [
    "CSV_FILE = os.path.join(os.getcwd(), 'input', 'stress_series_ex1.csv')\n",
    "SS = pygaf.StressSeries(from_csv=CSV_FILE, ylabel='Well Rate')\n",
    "W3 = pygaf.TransientWell(x=2000, y=4200, name='Production bore 3')\n",
    "W3.ss = SS\n",
    "W3.info()\n",
    "W3.ss.plot()"
   ]
  },
  {
   "cell_type": "code",
   "execution_count": null,
   "metadata": {},
   "outputs": [],
   "source": []
  }
 ],
 "metadata": {
  "kernelspec": {
   "display_name": "Python 3",
   "language": "python",
   "name": "python3"
  },
  "language_info": {
   "codemirror_mode": {
    "name": "ipython",
    "version": 3
   },
   "file_extension": ".py",
   "mimetype": "text/x-python",
   "name": "python",
   "nbconvert_exporter": "python",
   "pygments_lexer": "ipython3",
   "version": "3.7.2"
  }
 },
 "nbformat": 4,
 "nbformat_minor": 4
}
