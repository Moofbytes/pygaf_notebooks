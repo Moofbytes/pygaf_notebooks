{
 "cells": [
  {
   "cell_type": "markdown",
   "metadata": {},
   "source": [
    "# PyGAF Grid Classes\n",
    "This notebook demonstrates the features of PyGAF grid class. The grid classes are used with 2D solutions; for example, to generate tables and contours of head, drawdown or impress."
   ]
  },
  {
   "cell_type": "markdown",
   "metadata": {},
   "source": [
    "Installed `PyGAF` testing"
   ]
  },
  {
   "cell_type": "code",
   "execution_count": 1,
   "metadata": {},
   "outputs": [],
   "source": [
    "import os\n",
    "import pygaf\n",
    "%matplotlib inline"
   ]
  },
  {
   "cell_type": "markdown",
   "metadata": {},
   "source": [
    "Local testing"
   ]
  },
  {
   "cell_type": "code",
   "execution_count": 1,
   "metadata": {
    "jupyter": {
     "source_hidden": true
    }
   },
   "outputs": [],
   "source": [
    "import os\n",
    "import sys\n",
    "sys.path.insert(0, os.path.abspath('../pygaf'))\n",
    "import pygaf"
   ]
  },
  {
   "cell_type": "markdown",
   "metadata": {},
   "source": [
    "## Well grid `WellGrid` class\n",
    "Instanciate a `WellGrid` object using a `SteadyWell` object and grid radius `.gr`. The well grid is a grid of regularly spaced points. The default grid density `.gd` defining the number of rows and columns of points is 21 (441 grid points) and can be between 11 and 41 (121 to 1681 grid points). The grid points settings are accessed using the `.pts` attribute of the grid, which returns a Pandas dataframe.\n",
    "\n",
    "The well object is inherited by the grid object and is accessed via the `.well` attribute of the grid.\n",
    "- Create a steady well object with specified location and pumping rate\n",
    "- Create a well grid with specified radius\n",
    "- Assign the well to the well grid"
   ]
  },
  {
   "cell_type": "code",
   "execution_count": 2,
   "metadata": {},
   "outputs": [],
   "source": [
    "W = pygaf.SteadyWell(x=4000, y=3000, q=-1000)\n",
    "WG = pygaf.WellGrid(gr=3500)\n",
    "WG.well = W"
   ]
  },
  {
   "cell_type": "markdown",
   "metadata": {},
   "source": [
    "The grid information and diagram are displayed using the `.info` and `.draw` methods of the grid object."
   ]
  },
  {
   "cell_type": "code",
   "execution_count": 3,
   "metadata": {},
   "outputs": [
    {
     "name": "stdout",
     "output_type": "stream",
     "text": [
      "WELL INFORMATION\n",
      "----------------\n",
      "Type: Steady state\n",
      "Name: Steady state flowing well\n",
      "Coordinates: 4000 , 3000\n",
      "Radius: 0.05 [L]\n",
      "Penetration: 1\n",
      "Well rate: -1000 [L3/T]\n",
      "State: extract\n",
      "\n",
      "WELL GRID INFORMATION\n",
      "---------------------\n",
      "Grid radius: 3500\n",
      "Number of grid points: 441\n",
      "Grid density: 21\n",
      "\n"
     ]
    },
    {
     "data": {
      "image/png": "[encoded data removed]",
      "text/plain": [
       "<Figure size 360x360 with 1 Axes>"
      ]
     },
     "metadata": {
      "needs_background": "light"
     },
     "output_type": "display_data"
    }
   ],
   "source": [
    "WG.well.info()\n",
    "WG.info()\n",
    "WG.draw()"
   ]
  },
  {
   "cell_type": "markdown",
   "metadata": {},
   "source": [
    "Grid points are accessed using the `.pts` method. Local coordinates assume the well is at location (0, 0). The world coordinates are based on the assigned center coordinates of the well."
   ]
  },
  {
   "cell_type": "code",
   "execution_count": 4,
   "metadata": {},
   "outputs": [
    {
     "data": {
      "text/html": [
       "<div>\n",
       "<style scoped>\n",
       "    .dataframe tbody tr th:only-of-type {\n",
       "        vertical-align: middle;\n",
       "    }\n",
       "\n",
       "    .dataframe tbody tr th {\n",
       "        vertical-align: top;\n",
       "    }\n",
       "\n",
       "    .dataframe thead th {\n",
       "        text-align: right;\n",
       "    }\n",
       "</style>\n",
       "<table border=\"1\" class=\"dataframe\">\n",
       "  <thead>\n",
       "    <tr style=\"text-align: right;\">\n",
       "      <th></th>\n",
       "      <th>locx</th>\n",
       "      <th>locy</th>\n",
       "      <th>worldx</th>\n",
       "      <th>worldy</th>\n",
       "      <th>rad</th>\n",
       "    </tr>\n",
       "  </thead>\n",
       "  <tbody>\n",
       "    <tr>\n",
       "      <th>0</th>\n",
       "      <td>-3500.0</td>\n",
       "      <td>-3500.0</td>\n",
       "      <td>500.0</td>\n",
       "      <td>-500.0</td>\n",
       "      <td>4949.747468</td>\n",
       "    </tr>\n",
       "    <tr>\n",
       "      <th>1</th>\n",
       "      <td>-3150.0</td>\n",
       "      <td>-3500.0</td>\n",
       "      <td>850.0</td>\n",
       "      <td>-500.0</td>\n",
       "      <td>4708.768416</td>\n",
       "    </tr>\n",
       "    <tr>\n",
       "      <th>2</th>\n",
       "      <td>-2800.0</td>\n",
       "      <td>-3500.0</td>\n",
       "      <td>1200.0</td>\n",
       "      <td>-500.0</td>\n",
       "      <td>4482.186966</td>\n",
       "    </tr>\n",
       "    <tr>\n",
       "      <th>3</th>\n",
       "      <td>-2450.0</td>\n",
       "      <td>-3500.0</td>\n",
       "      <td>1550.0</td>\n",
       "      <td>-500.0</td>\n",
       "      <td>4272.294466</td>\n",
       "    </tr>\n",
       "    <tr>\n",
       "      <th>4</th>\n",
       "      <td>-2100.0</td>\n",
       "      <td>-3500.0</td>\n",
       "      <td>1900.0</td>\n",
       "      <td>-500.0</td>\n",
       "      <td>4081.666326</td>\n",
       "    </tr>\n",
       "    <tr>\n",
       "      <th>...</th>\n",
       "      <td>...</td>\n",
       "      <td>...</td>\n",
       "      <td>...</td>\n",
       "      <td>...</td>\n",
       "      <td>...</td>\n",
       "    </tr>\n",
       "    <tr>\n",
       "      <th>436</th>\n",
       "      <td>2100.0</td>\n",
       "      <td>3500.0</td>\n",
       "      <td>6100.0</td>\n",
       "      <td>6500.0</td>\n",
       "      <td>4081.666326</td>\n",
       "    </tr>\n",
       "    <tr>\n",
       "      <th>437</th>\n",
       "      <td>2450.0</td>\n",
       "      <td>3500.0</td>\n",
       "      <td>6450.0</td>\n",
       "      <td>6500.0</td>\n",
       "      <td>4272.294466</td>\n",
       "    </tr>\n",
       "    <tr>\n",
       "      <th>438</th>\n",
       "      <td>2800.0</td>\n",
       "      <td>3500.0</td>\n",
       "      <td>6800.0</td>\n",
       "      <td>6500.0</td>\n",
       "      <td>4482.186966</td>\n",
       "    </tr>\n",
       "    <tr>\n",
       "      <th>439</th>\n",
       "      <td>3150.0</td>\n",
       "      <td>3500.0</td>\n",
       "      <td>7150.0</td>\n",
       "      <td>6500.0</td>\n",
       "      <td>4708.768416</td>\n",
       "    </tr>\n",
       "    <tr>\n",
       "      <th>440</th>\n",
       "      <td>3500.0</td>\n",
       "      <td>3500.0</td>\n",
       "      <td>7500.0</td>\n",
       "      <td>6500.0</td>\n",
       "      <td>4949.747468</td>\n",
       "    </tr>\n",
       "  </tbody>\n",
       "</table>\n",
       "<p>441 rows × 5 columns</p>\n",
       "</div>"
      ],
      "text/plain": [
       "       locx    locy  worldx  worldy          rad\n",
       "0   -3500.0 -3500.0   500.0  -500.0  4949.747468\n",
       "1   -3150.0 -3500.0   850.0  -500.0  4708.768416\n",
       "2   -2800.0 -3500.0  1200.0  -500.0  4482.186966\n",
       "3   -2450.0 -3500.0  1550.0  -500.0  4272.294466\n",
       "4   -2100.0 -3500.0  1900.0  -500.0  4081.666326\n",
       "..      ...     ...     ...     ...          ...\n",
       "436  2100.0  3500.0  6100.0  6500.0  4081.666326\n",
       "437  2450.0  3500.0  6450.0  6500.0  4272.294466\n",
       "438  2800.0  3500.0  6800.0  6500.0  4482.186966\n",
       "439  3150.0  3500.0  7150.0  6500.0  4708.768416\n",
       "440  3500.0  3500.0  7500.0  6500.0  4949.747468\n",
       "\n",
       "[441 rows x 5 columns]"
      ]
     },
     "execution_count": 4,
     "metadata": {},
     "output_type": "execute_result"
    }
   ],
   "source": [
    "WG.pts"
   ]
  },
  {
   "cell_type": "markdown",
   "metadata": {},
   "source": [
    "The `.draw` method displays the grid in world coordinates. Set `local=True` to display the grid in local coordinates with the well at position (0, 0)."
   ]
  },
  {
   "cell_type": "code",
   "execution_count": 5,
   "metadata": {},
   "outputs": [
    {
     "data": {
      "image/png": "[encoded data removed]",
      "text/plain": [
       "<Figure size 360x360 with 1 Axes>"
      ]
     },
     "metadata": {
      "needs_background": "light"
     },
     "output_type": "display_data"
    }
   ],
   "source": [
    "WG.draw(local=True)"
   ]
  },
  {
   "cell_type": "markdown",
   "metadata": {},
   "source": [
    "Grid density can be changed using the `.gd` attribute of the grid. Automatic constraints are applied to limit the grid density to the allowable minimum and maximum grid densities. The minimum grid density is 11 (121 grid points) and the maximum density is 41 (1681 grid points). Automatic adjustment is performed if a grid density outside this range is specified. A notification that the grid density has been constrained is exposed through the `.info` method of the grid.\n",
    "\n",
    "This example is within the grid density constraints."
   ]
  },
  {
   "cell_type": "code",
   "execution_count": 6,
   "metadata": {},
   "outputs": [
    {
     "name": "stdout",
     "output_type": "stream",
     "text": [
      "WELL GRID INFORMATION\n",
      "---------------------\n",
      "Grid radius: 3500\n",
      "Number of grid points: 625\n",
      "Grid density: 25\n",
      "\n"
     ]
    },
    {
     "data": {
      "image/png": "[encoded data removed]",
      "text/plain": [
       "<Figure size 360x360 with 1 Axes>"
      ]
     },
     "metadata": {
      "needs_background": "light"
     },
     "output_type": "display_data"
    }
   ],
   "source": [
    "WG.gd = 25\n",
    "WG.info()\n",
    "WG.draw()"
   ]
  },
  {
   "cell_type": "markdown",
   "metadata": {},
   "source": [
    "This example specifies a grid density below the minimum constraints and triggers automatic adjustment to increase grid density."
   ]
  },
  {
   "cell_type": "code",
   "execution_count": 7,
   "metadata": {},
   "outputs": [
    {
     "name": "stdout",
     "output_type": "stream",
     "text": [
      "WELL GRID INFORMATION\n",
      "---------------------\n",
      "Notice! grid spacing has been increased to enforce the minimum grid density of 121 points.\n",
      "Grid radius: 3500\n",
      "Number of grid points: 121\n",
      "Grid density: 11\n",
      "\n"
     ]
    },
    {
     "data": {
      "image/png": "[encoded data removed]",
      "text/plain": [
       "<Figure size 360x360 with 1 Axes>"
      ]
     },
     "metadata": {
      "needs_background": "light"
     },
     "output_type": "display_data"
    }
   ],
   "source": [
    "WG.gd = 5\n",
    "WG.info()\n",
    "WG.draw()"
   ]
  },
  {
   "cell_type": "markdown",
   "metadata": {},
   "source": [
    "This example specifies a grid density above the maximum constraints and triggers automatic adjustment to reduce grid density."
   ]
  },
  {
   "cell_type": "code",
   "execution_count": 8,
   "metadata": {},
   "outputs": [
    {
     "name": "stdout",
     "output_type": "stream",
     "text": [
      "WELL GRID INFORMATION\n",
      "---------------------\n",
      "Notice! grid spacing has been decreased to enforce the maximum grid density of 1681 points.\n",
      "Grid radius: 3500\n",
      "Number of grid points: 1681\n",
      "Grid density: 41\n",
      "\n"
     ]
    },
    {
     "data": {
      "image/png": "[encoded data removed]",
      "text/plain": [
       "<Figure size 360x360 with 1 Axes>"
      ]
     },
     "metadata": {
      "needs_background": "light"
     },
     "output_type": "display_data"
    }
   ],
   "source": [
    "WG.gd = 50\n",
    "WG.info()\n",
    "WG.draw()"
   ]
  },
  {
   "cell_type": "markdown",
   "metadata": {},
   "source": [
    "## Basin grid `BasinGrid` class\n",
    "Instanciate a `BasinGrid` object using a `Basin` object and grid radius `gr`. The default grid density `gd` is 21 (441 grid points) and can be set between 11 and 41 (121 to 1681 grid points). The basin object is inherited by the grid object and accessed via `.basin` attribute of the grid. The grid information and diagram are displayed using the `.info` and `.draw` methods of the grid object.\n",
    "- Create a rectangular basin object with specified location\n",
    "- Create a basin grid with specified radius\n",
    "- Assign the basin to the basin grid\n",
    "- Display basin grid information\n",
    "- Draw the basin grid"
   ]
  },
  {
   "cell_type": "code",
   "execution_count": 9,
   "metadata": {},
   "outputs": [
    {
     "name": "stdout",
     "output_type": "stream",
     "text": [
      "BASIN GRID INFORMATION\n",
      "----------------------\n",
      "Grid radius: 1000\n",
      "Number of grid points: 441\n",
      "Grid density: 21\n",
      "\n",
      "BASIN INFORMATION\n",
      "-----------------\n",
      "Type: Rectangular Basin\n",
      "Name: Rectangle basin\n",
      "Basin center: (200, 400) [L]\n",
      "Basin x length: 10 [L]\n",
      "Basin y length: 10 [L]\n",
      "Basin area: 100 [L2]\n",
      "Clockwise rotation angle: 0 [deg]\n",
      "\n"
     ]
    },
    {
     "data": {
      "image/png": "[encoded data removed]",
      "text/plain": [
       "<Figure size 360x360 with 1 Axes>"
      ]
     },
     "metadata": {
      "needs_background": "light"
     },
     "output_type": "display_data"
    }
   ],
   "source": [
    "B1 = pygaf.RectBasin(cx=200, cy=400)\n",
    "BG1 = pygaf.BasinGrid(gr=1000)\n",
    "BG1.basin = B1\n",
    "BG1.info()\n",
    "BG1.basin.info()\n",
    "BG1.draw()"
   ]
  },
  {
   "cell_type": "markdown",
   "metadata": {},
   "source": [
    "The `.draw` method displays a plot of the grid. Set `local=True` to display the grid in in local coordinates with the basin center positioned at coordinates (0, 0)."
   ]
  },
  {
   "cell_type": "code",
   "execution_count": 10,
   "metadata": {},
   "outputs": [
    {
     "data": {
      "image/png": "[encoded data removed]",
      "text/plain": [
       "<Figure size 360x360 with 1 Axes>"
      ]
     },
     "metadata": {
      "needs_background": "light"
     },
     "output_type": "display_data"
    }
   ],
   "source": [
    "BG1.draw(local=True)"
   ]
  },
  {
   "cell_type": "markdown",
   "metadata": {},
   "source": [
    "Rectangular basins have a rotation `.rot` attribute that specifies the clockwise rotation angle of the basin with a default value of 0 deg."
   ]
  },
  {
   "cell_type": "code",
   "execution_count": 11,
   "metadata": {},
   "outputs": [],
   "source": [
    "B2 = pygaf.RectBasin(cx=20, cy=40, rot=15)\n",
    "BG2 = pygaf.BasinGrid(gr=1200)\n",
    "BG2.basin = B2"
   ]
  },
  {
   "cell_type": "code",
   "execution_count": 12,
   "metadata": {},
   "outputs": [
    {
     "name": "stdout",
     "output_type": "stream",
     "text": [
      "BASIN GRID INFORMATION\n",
      "----------------------\n",
      "Grid radius: 1200\n",
      "Number of grid points: 441\n",
      "Grid density: 21\n",
      "\n",
      "BASIN INFORMATION\n",
      "-----------------\n",
      "Type: Rectangular Basin\n",
      "Name: Rectangle basin\n",
      "Basin center: (20, 40) [L]\n",
      "Basin x length: 10 [L]\n",
      "Basin y length: 10 [L]\n",
      "Basin area: 100 [L2]\n",
      "Clockwise rotation angle: 15 [deg]\n",
      "\n"
     ]
    }
   ],
   "source": [
    "BG2.info()\n",
    "BG2.basin.info()"
   ]
  },
  {
   "cell_type": "code",
   "execution_count": 13,
   "metadata": {},
   "outputs": [
    {
     "data": {
      "image/png": "[encoded data removed]",
      "text/plain": [
       "<Figure size 360x360 with 1 Axes>"
      ]
     },
     "metadata": {
      "needs_background": "light"
     },
     "output_type": "display_data"
    },
    {
     "data": {
      "image/png": "[encoded data removed]",
      "text/plain": [
       "<Figure size 360x360 with 1 Axes>"
      ]
     },
     "metadata": {
      "needs_background": "light"
     },
     "output_type": "display_data"
    }
   ],
   "source": [
    "BG2.draw()\n",
    "BG2.draw(local=True)"
   ]
  },
  {
   "cell_type": "markdown",
   "metadata": {},
   "source": [
    "The rotation attribute of the basin object is inherited by the grid object; rotated coordinates are calculated for both the local and world grids."
   ]
  },
  {
   "cell_type": "code",
   "execution_count": 14,
   "metadata": {},
   "outputs": [
    {
     "data": {
      "text/html": [
       "<div>\n",
       "<style scoped>\n",
       "    .dataframe tbody tr th:only-of-type {\n",
       "        vertical-align: middle;\n",
       "    }\n",
       "\n",
       "    .dataframe tbody tr th {\n",
       "        vertical-align: top;\n",
       "    }\n",
       "\n",
       "    .dataframe thead th {\n",
       "        text-align: right;\n",
       "    }\n",
       "</style>\n",
       "<table border=\"1\" class=\"dataframe\">\n",
       "  <thead>\n",
       "    <tr style=\"text-align: right;\">\n",
       "      <th></th>\n",
       "      <th>locx</th>\n",
       "      <th>locy</th>\n",
       "      <th>rotx</th>\n",
       "      <th>roty</th>\n",
       "      <th>worldx</th>\n",
       "      <th>worldy</th>\n",
       "      <th>dx</th>\n",
       "      <th>dy</th>\n",
       "    </tr>\n",
       "  </thead>\n",
       "  <tbody>\n",
       "    <tr>\n",
       "      <th>0</th>\n",
       "      <td>-1200.0</td>\n",
       "      <td>-1200.0</td>\n",
       "      <td>-1469.693846</td>\n",
       "      <td>-848.528137</td>\n",
       "      <td>-1449.693846</td>\n",
       "      <td>-808.528137</td>\n",
       "      <td>-1200.0</td>\n",
       "      <td>-1200.0</td>\n",
       "    </tr>\n",
       "    <tr>\n",
       "      <th>1</th>\n",
       "      <td>-1080.0</td>\n",
       "      <td>-1200.0</td>\n",
       "      <td>-1353.782747</td>\n",
       "      <td>-879.586423</td>\n",
       "      <td>-1333.782747</td>\n",
       "      <td>-839.586423</td>\n",
       "      <td>-1080.0</td>\n",
       "      <td>-1200.0</td>\n",
       "    </tr>\n",
       "    <tr>\n",
       "      <th>2</th>\n",
       "      <td>-960.0</td>\n",
       "      <td>-1200.0</td>\n",
       "      <td>-1237.871647</td>\n",
       "      <td>-910.644708</td>\n",
       "      <td>-1217.871647</td>\n",
       "      <td>-870.644708</td>\n",
       "      <td>-960.0</td>\n",
       "      <td>-1200.0</td>\n",
       "    </tr>\n",
       "    <tr>\n",
       "      <th>3</th>\n",
       "      <td>-840.0</td>\n",
       "      <td>-1200.0</td>\n",
       "      <td>-1121.960548</td>\n",
       "      <td>-941.702994</td>\n",
       "      <td>-1101.960548</td>\n",
       "      <td>-901.702994</td>\n",
       "      <td>-840.0</td>\n",
       "      <td>-1200.0</td>\n",
       "    </tr>\n",
       "    <tr>\n",
       "      <th>4</th>\n",
       "      <td>-720.0</td>\n",
       "      <td>-1200.0</td>\n",
       "      <td>-1006.049449</td>\n",
       "      <td>-972.761279</td>\n",
       "      <td>-986.049449</td>\n",
       "      <td>-932.761279</td>\n",
       "      <td>-720.0</td>\n",
       "      <td>-1200.0</td>\n",
       "    </tr>\n",
       "    <tr>\n",
       "      <th>...</th>\n",
       "      <td>...</td>\n",
       "      <td>...</td>\n",
       "      <td>...</td>\n",
       "      <td>...</td>\n",
       "      <td>...</td>\n",
       "      <td>...</td>\n",
       "      <td>...</td>\n",
       "      <td>...</td>\n",
       "    </tr>\n",
       "    <tr>\n",
       "      <th>436</th>\n",
       "      <td>720.0</td>\n",
       "      <td>1200.0</td>\n",
       "      <td>1006.049449</td>\n",
       "      <td>972.761279</td>\n",
       "      <td>1026.049449</td>\n",
       "      <td>1012.761279</td>\n",
       "      <td>720.0</td>\n",
       "      <td>1200.0</td>\n",
       "    </tr>\n",
       "    <tr>\n",
       "      <th>437</th>\n",
       "      <td>840.0</td>\n",
       "      <td>1200.0</td>\n",
       "      <td>1121.960548</td>\n",
       "      <td>941.702994</td>\n",
       "      <td>1141.960548</td>\n",
       "      <td>981.702994</td>\n",
       "      <td>840.0</td>\n",
       "      <td>1200.0</td>\n",
       "    </tr>\n",
       "    <tr>\n",
       "      <th>438</th>\n",
       "      <td>960.0</td>\n",
       "      <td>1200.0</td>\n",
       "      <td>1237.871647</td>\n",
       "      <td>910.644708</td>\n",
       "      <td>1257.871647</td>\n",
       "      <td>950.644708</td>\n",
       "      <td>960.0</td>\n",
       "      <td>1200.0</td>\n",
       "    </tr>\n",
       "    <tr>\n",
       "      <th>439</th>\n",
       "      <td>1080.0</td>\n",
       "      <td>1200.0</td>\n",
       "      <td>1353.782747</td>\n",
       "      <td>879.586423</td>\n",
       "      <td>1373.782747</td>\n",
       "      <td>919.586423</td>\n",
       "      <td>1080.0</td>\n",
       "      <td>1200.0</td>\n",
       "    </tr>\n",
       "    <tr>\n",
       "      <th>440</th>\n",
       "      <td>1200.0</td>\n",
       "      <td>1200.0</td>\n",
       "      <td>1469.693846</td>\n",
       "      <td>848.528137</td>\n",
       "      <td>1489.693846</td>\n",
       "      <td>888.528137</td>\n",
       "      <td>1200.0</td>\n",
       "      <td>1200.0</td>\n",
       "    </tr>\n",
       "  </tbody>\n",
       "</table>\n",
       "<p>441 rows × 8 columns</p>\n",
       "</div>"
      ],
      "text/plain": [
       "       locx    locy         rotx        roty       worldx       worldy  \\\n",
       "0   -1200.0 -1200.0 -1469.693846 -848.528137 -1449.693846  -808.528137   \n",
       "1   -1080.0 -1200.0 -1353.782747 -879.586423 -1333.782747  -839.586423   \n",
       "2    -960.0 -1200.0 -1237.871647 -910.644708 -1217.871647  -870.644708   \n",
       "3    -840.0 -1200.0 -1121.960548 -941.702994 -1101.960548  -901.702994   \n",
       "4    -720.0 -1200.0 -1006.049449 -972.761279  -986.049449  -932.761279   \n",
       "..      ...     ...          ...         ...          ...          ...   \n",
       "436   720.0  1200.0  1006.049449  972.761279  1026.049449  1012.761279   \n",
       "437   840.0  1200.0  1121.960548  941.702994  1141.960548   981.702994   \n",
       "438   960.0  1200.0  1237.871647  910.644708  1257.871647   950.644708   \n",
       "439  1080.0  1200.0  1353.782747  879.586423  1373.782747   919.586423   \n",
       "440  1200.0  1200.0  1469.693846  848.528137  1489.693846   888.528137   \n",
       "\n",
       "         dx      dy  \n",
       "0   -1200.0 -1200.0  \n",
       "1   -1080.0 -1200.0  \n",
       "2    -960.0 -1200.0  \n",
       "3    -840.0 -1200.0  \n",
       "4    -720.0 -1200.0  \n",
       "..      ...     ...  \n",
       "436   720.0  1200.0  \n",
       "437   840.0  1200.0  \n",
       "438   960.0  1200.0  \n",
       "439  1080.0  1200.0  \n",
       "440  1200.0  1200.0  \n",
       "\n",
       "[441 rows x 8 columns]"
      ]
     },
     "execution_count": 14,
     "metadata": {},
     "output_type": "execute_result"
    }
   ],
   "source": [
    "BG2.pts"
   ]
  },
  {
   "cell_type": "code",
   "execution_count": null,
   "metadata": {},
   "outputs": [],
   "source": []
  }
 ],
 "metadata": {
  "kernelspec": {
   "display_name": "Python 3",
   "language": "python",
   "name": "python3"
  },
  "language_info": {
   "codemirror_mode": {
    "name": "ipython",
    "version": 3
   },
   "file_extension": ".py",
   "mimetype": "text/x-python",
   "name": "python",
   "nbconvert_exporter": "python",
   "pygments_lexer": "ipython3",
   "version": "3.7.2"
  }
 },
 "nbformat": 4,
 "nbformat_minor": 4
}
