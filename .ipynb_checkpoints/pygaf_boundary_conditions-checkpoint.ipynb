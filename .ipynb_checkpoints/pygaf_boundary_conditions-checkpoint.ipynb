{
 "cells": [
  {
   "cell_type": "markdown",
   "id": "024cd862",
   "metadata": {},
   "source": [
    "# PyGAF Boundary Conditions\n",
    "This notebook demonstrates PyGAF boundary conditions (BC) types. The BC classes are used with general solution classes that require boundary conditions to be solved."
   ]
  },
  {
   "cell_type": "markdown",
   "id": "c2e9f822",
   "metadata": {},
   "source": [
    "Installed `PyGAF` testing."
   ]
  },
  {
   "cell_type": "code",
   "execution_count": 1,
   "id": "627be20e",
   "metadata": {},
   "outputs": [],
   "source": [
    "import pygaf"
   ]
  },
  {
   "cell_type": "markdown",
   "id": "0e31d21c",
   "metadata": {},
   "source": [
    "Local testing."
   ]
  },
  {
   "cell_type": "code",
   "execution_count": 1,
   "id": "2e2f335a",
   "metadata": {
    "jupyter": {
     "source_hidden": true
    },
    "tags": []
   },
   "outputs": [],
   "source": [
    "import os\n",
    "import sys\n",
    "sys.path.insert(0, os.path.abspath('../pygaf'))\n",
    "import pygaf"
   ]
  },
  {
   "cell_type": "markdown",
   "id": "cce55452",
   "metadata": {},
   "source": [
    "## Steady state, Type 1 boundary condition (prescribed head)\n",
    "Default values."
   ]
  },
  {
   "cell_type": "code",
   "execution_count": 2,
   "id": "14b479c8",
   "metadata": {},
   "outputs": [
    {
     "name": "stdout",
     "output_type": "stream",
     "text": [
      "BOUNDARY CONDITION INFORMATION\n",
      "------------------------------\n",
      "BC type 1, {'head': 10.0}\n",
      "\n",
      "{'head': 10.0}\n"
     ]
    }
   ],
   "source": [
    "bc1 = pygaf.SteadyBC(type=1)\n",
    "bc1.info()\n",
    "print(bc1.value)"
   ]
  },
  {
   "cell_type": "markdown",
   "id": "5558430a",
   "metadata": {},
   "source": [
    "Assign a new value."
   ]
  },
  {
   "cell_type": "code",
   "execution_count": 3,
   "id": "d9709a80",
   "metadata": {},
   "outputs": [
    {
     "name": "stdout",
     "output_type": "stream",
     "text": [
      "BOUNDARY CONDITION INFORMATION\n",
      "------------------------------\n",
      "BC type 1, {'head': 20}\n",
      "\n",
      "20\n"
     ]
    }
   ],
   "source": [
    "bc1.head = 20\n",
    "bc1.info()\n",
    "print(bc1.head)"
   ]
  },
  {
   "cell_type": "markdown",
   "id": "e3464280",
   "metadata": {},
   "source": [
    "## Steady state, Type 2 boundary condition (prescribed flow)\n",
    "Default values."
   ]
  },
  {
   "cell_type": "code",
   "execution_count": 4,
   "id": "379e9c3b",
   "metadata": {},
   "outputs": [
    {
     "name": "stdout",
     "output_type": "stream",
     "text": [
      "BOUNDARY CONDITION INFORMATION\n",
      "------------------------------\n",
      "BC type 2, {'flow': 0.0}\n",
      "\n",
      "0.0\n"
     ]
    }
   ],
   "source": [
    "bc2 = pygaf.SteadyBC(type=2)\n",
    "bc2.info()\n",
    "print(bc2.flow)"
   ]
  },
  {
   "cell_type": "markdown",
   "id": "2513884f",
   "metadata": {},
   "source": [
    "Assign a new value."
   ]
  },
  {
   "cell_type": "code",
   "execution_count": 5,
   "id": "ecb6df1c",
   "metadata": {},
   "outputs": [
    {
     "name": "stdout",
     "output_type": "stream",
     "text": [
      "BOUNDARY CONDITION INFORMATION\n",
      "------------------------------\n",
      "BC type 2, {'flow': 1000}\n",
      "\n",
      "1000\n"
     ]
    }
   ],
   "source": [
    "bc2.flow = 1000\n",
    "bc2.info()\n",
    "print(bc2.flow)"
   ]
  },
  {
   "cell_type": "markdown",
   "id": "b1c4336f",
   "metadata": {},
   "source": [
    "## Steady state, Type 3 boundary condition (external head and conductance)\n",
    "Default values."
   ]
  },
  {
   "cell_type": "code",
   "execution_count": 6,
   "id": "8e4943ff",
   "metadata": {},
   "outputs": [
    {
     "name": "stdout",
     "output_type": "stream",
     "text": [
      "BOUNDARY CONDITION INFORMATION\n",
      "------------------------------\n",
      "BC type 3, {'head': 10.0, 'cond': 0.0}\n",
      "\n",
      "10.0 0.0\n"
     ]
    }
   ],
   "source": [
    "bc3 = pygaf.SteadyBC(type=3)\n",
    "bc3.info()\n",
    "print(bc3.head, bc3.cond)"
   ]
  },
  {
   "cell_type": "code",
   "execution_count": 7,
   "id": "06955e15",
   "metadata": {},
   "outputs": [
    {
     "name": "stdout",
     "output_type": "stream",
     "text": [
      "BOUNDARY CONDITION INFORMATION\n",
      "------------------------------\n",
      "BC type 3, {'head': 15, 'cond': 0.01}\n",
      "\n",
      "15 0.01\n"
     ]
    }
   ],
   "source": [
    "bc3.head = 15\n",
    "bc3.cond = 0.01\n",
    "bc3.info()\n",
    "print(bc3.head, bc3.cond)"
   ]
  },
  {
   "cell_type": "markdown",
   "id": "cd0abd70",
   "metadata": {},
   "source": [
    "Note that conductance is specified as a single value. A PyGAF utility is available to calculate conducance from its component values: hydraulic conductivity `K`, thickness `B`, width `W` and length `L`. For 1D flow, width `W` should be equal to 1.0, which is the default value."
   ]
  },
  {
   "cell_type": "code",
   "execution_count": 8,
   "id": "d4540893",
   "metadata": {},
   "outputs": [
    {
     "name": "stdout",
     "output_type": "stream",
     "text": [
      "0.05\n"
     ]
    }
   ],
   "source": [
    "c = pygaf.utils.conductance(K=1, B=10, L=200)\n",
    "print(c)"
   ]
  },
  {
   "cell_type": "code",
   "execution_count": null,
   "id": "5530671f",
   "metadata": {},
   "outputs": [],
   "source": []
  }
 ],
 "metadata": {
  "kernelspec": {
   "display_name": "Python 3 (ipykernel)",
   "language": "python",
   "name": "python3"
  },
  "language_info": {
   "codemirror_mode": {
    "name": "ipython",
    "version": 3
   },
   "file_extension": ".py",
   "mimetype": "text/x-python",
   "name": "python",
   "nbconvert_exporter": "python",
   "pygments_lexer": "ipython3",
   "version": "3.10.9"
  }
 },
 "nbformat": 4,
 "nbformat_minor": 5
}
