{
 "cells": [
  {
   "cell_type": "markdown",
   "metadata": {},
   "source": [
    "# PyGAF Aquifer Classes"
   ]
  },
  {
   "cell_type": "markdown",
   "metadata": {},
   "source": [
    "Local testing."
   ]
  },
  {
   "cell_type": "code",
   "execution_count": 1,
   "metadata": {},
   "outputs": [],
   "source": [
    "import os\n",
    "import sys\n",
    "sys.path.insert(0, os.path.abspath('../pygaf'))\n",
    "import pygaf"
   ]
  },
  {
   "cell_type": "markdown",
   "metadata": {},
   "source": [
    "Installed `PyGAF` testing."
   ]
  },
  {
   "cell_type": "code",
   "execution_count": 2,
   "metadata": {},
   "outputs": [],
   "source": [
    "import os\n",
    "import pygaf\n",
    "%matplotlib inline"
   ]
  },
  {
   "cell_type": "markdown",
   "metadata": {},
   "source": [
    "## List of aquifer classes"
   ]
  },
  {
   "cell_type": "code",
   "execution_count": 3,
   "metadata": {},
   "outputs": [
    {
     "data": {
      "text/plain": [
       "[pygaf.aquifers.Aq2dConf,\n",
       " pygaf.aquifers.Aq2dUnconf,\n",
       " pygaf.aquifers.Aq2dLeaky,\n",
       " pygaf.aquifers.Aq1dFiniteConf,\n",
       " pygaf.aquifers.Aq1dFiniteUnconf,\n",
       " pygaf.aquifers.Aq1dSemifiniteConf,\n",
       " pygaf.aquifers.Aq1dSemifiniteUnconf]"
      ]
     },
     "execution_count": 3,
     "metadata": {},
     "output_type": "execute_result"
    }
   ],
   "source": [
    "pygaf.Aquifer.__subclasses__()"
   ]
  },
  {
   "cell_type": "markdown",
   "metadata": {},
   "source": [
    "## 2D confined aquifer\n",
    "The default `Aq2dConf` aquifer has hydraulic conductivity `K=1`, specific storativity `Ss=0.0001`, aquifer thickness `B=10` and aquifer bottom (datum) elevation `bot=0`. Exceptions will occur if invalid values are provided for `K`, `Ss` or `B`. The `.info` and `.draw` methods display the aquifer information and diagram."
   ]
  },
  {
   "cell_type": "code",
   "execution_count": 4,
   "metadata": {},
   "outputs": [
    {
     "name": "stdout",
     "output_type": "stream",
     "text": [
      "AQUIFER INFORMATION\n",
      "-------------------\n",
      "Type: 2D, confined homogeneous aquifer\n",
      "Name: Unnamed\n",
      "Hydraulic conductivity: 1 [L/T]\n",
      "Specific storativity: 0.0001 [1/L]\n",
      "Aquifer thickness: 10 [L]\n",
      "Transmissivity: 10 [L2/T]\n",
      "Storage coefficient: 0.001 [1]\n",
      "Diffusivity: 10000.0 [L2/T]\n",
      "Bottom elevation: 0 [RL]\n",
      "Top elevation: 10 [RL]\n",
      "\n"
     ]
    },
    {
     "data": {
      "image/png": "[encoded data removed]",
      "text/plain": [
       "<Figure size 432x144 with 1 Axes>"
      ]
     },
     "metadata": {
      "needs_background": "light"
     },
     "output_type": "display_data"
    }
   ],
   "source": [
    "pygaf.Aq2dConf().info()\n",
    "pygaf.Aq2dConf().draw()"
   ]
  },
  {
   "cell_type": "markdown",
   "metadata": {},
   "source": [
    "Instanciate a non-default aquifer."
   ]
  },
  {
   "cell_type": "code",
   "execution_count": 5,
   "metadata": {},
   "outputs": [
    {
     "name": "stdout",
     "output_type": "stream",
     "text": [
      "AQUIFER INFORMATION\n",
      "-------------------\n",
      "Type: 2D, confined homogeneous aquifer\n",
      "Name: Confined Aquifer\n",
      "Hydraulic conductivity: 3 [L/T]\n",
      "Specific storativity: 1e-05 [1/L]\n",
      "Aquifer thickness: 55 [L]\n",
      "Transmissivity: 165 [L2/T]\n",
      "Storage coefficient: 0.00055 [1]\n",
      "Diffusivity: 300000.0 [L2/T]\n",
      "Bottom elevation: 20 [RL]\n",
      "Top elevation: 75 [RL]\n",
      "\n"
     ]
    },
    {
     "data": {
      "image/png": "[encoded data removed]",
      "text/plain": [
       "<Figure size 432x144 with 1 Axes>"
      ]
     },
     "metadata": {
      "needs_background": "light"
     },
     "output_type": "display_data"
    }
   ],
   "source": [
    "AQ1 = pygaf.Aq2dConf(K=3, B=55, Ss=1e-5, bot=20, name='Confined Aquifer')\n",
    "AQ1.info()\n",
    "AQ1.draw()"
   ]
  },
  {
   "cell_type": "markdown",
   "metadata": {},
   "source": [
    "Use booleen properties to select the aquifer and perform tasks."
   ]
  },
  {
   "cell_type": "code",
   "execution_count": 6,
   "metadata": {},
   "outputs": [
    {
     "name": "stdout",
     "output_type": "stream",
     "text": [
      "The aquifer is confined with thickness 55 m.\n"
     ]
    }
   ],
   "source": [
    "if AQ1.is_confined:\n",
    "    print('The aquifer is confined with thickness', AQ1.B, 'm.')\n",
    "else:\n",
    "    print('The aquifer is not confined')"
   ]
  },
  {
   "cell_type": "markdown",
   "metadata": {},
   "source": [
    "## 2D leaky aquifer\n",
    "The default `Aq2dLeak` aquifer has hydraulic conductivity `K=1`, specific storativity `Ss=0.0001`, aquifer thickness `B=10`, aquifer bottom (datum) elevation `bot=0`, leaky layer hydraulic conductivity `Kleak=0.00001` and leaky layer thickness `Bleak=10`. Exceptions will occur if invalid values are provided for `K`, `Ss`, `B`, `Kleak` or `Bleak`. The `.info` and `.draw` methods display the aquifer information and diagram."
   ]
  },
  {
   "cell_type": "code",
   "execution_count": 7,
   "metadata": {},
   "outputs": [
    {
     "name": "stdout",
     "output_type": "stream",
     "text": [
      "AQUIFER INFORMATION\n",
      "-------------------\n",
      "Type: 2D, leaky homogeneous aquifer\n",
      "Name: Unnamed\n",
      "Hydraulic conductivity: 1 [L/T]\n",
      "Specific storativity: 0.0001 [1/L]\n",
      "Aquifer thickness: 10 [L]\n",
      "Transmissivity: 10 [L2/T]\n",
      "Storage coefficient: 0.001 [1]\n",
      "Diffusivity: 10000.0 [L2/T]\n",
      "Bottom elevation: 0 [RL]\n",
      "Top elevation: 10 [RL]\n",
      "Leaky layer hydraulic conductivity: 1e-05 [L/T]\n",
      "Leaky layer thickness: 10 [L]\n",
      "\n"
     ]
    },
    {
     "data": {
      "image/png": "[encoded data removed]",
      "text/plain": [
       "<Figure size 432x144 with 1 Axes>"
      ]
     },
     "metadata": {
      "needs_background": "light"
     },
     "output_type": "display_data"
    }
   ],
   "source": [
    "pygaf.Aq2dLeaky().info()\n",
    "pygaf.Aq2dLeaky().draw()"
   ]
  },
  {
   "cell_type": "markdown",
   "metadata": {},
   "source": [
    "Instanciate a non-default aquifer."
   ]
  },
  {
   "cell_type": "code",
   "execution_count": 8,
   "metadata": {},
   "outputs": [
    {
     "name": "stdout",
     "output_type": "stream",
     "text": [
      "AQUIFER INFORMATION\n",
      "-------------------\n",
      "Type: 2D, leaky homogeneous aquifer\n",
      "Name: Leaky Aquifer\n",
      "Hydraulic conductivity: 3 [L/T]\n",
      "Specific storativity: 1e-05 [1/L]\n",
      "Aquifer thickness: 55 [L]\n",
      "Transmissivity: 165 [L2/T]\n",
      "Storage coefficient: 0.00055 [1]\n",
      "Diffusivity: 300000.0 [L2/T]\n",
      "Bottom elevation: 20 [RL]\n",
      "Top elevation: 75 [RL]\n",
      "Leaky layer hydraulic conductivity: 0.001 [L/T]\n",
      "Leaky layer thickness: 5 [L]\n",
      "\n"
     ]
    },
    {
     "data": {
      "image/png": "[encoded data removed]",
      "text/plain": [
       "<Figure size 432x144 with 1 Axes>"
      ]
     },
     "metadata": {
      "needs_background": "light"
     },
     "output_type": "display_data"
    }
   ],
   "source": [
    "AQ7 = pygaf.Aq2dLeaky(K=3, B=55, bot=20, Ss=1e-5, Kleak=1e-3, Bleak=5, name='Leaky Aquifer')\n",
    "AQ7.info()\n",
    "AQ7.draw()"
   ]
  },
  {
   "cell_type": "markdown",
   "metadata": {},
   "source": [
    "Use booleen properties to select the aquifer and perform tasks."
   ]
  },
  {
   "cell_type": "code",
   "execution_count": 9,
   "metadata": {},
   "outputs": [
    {
     "name": "stdout",
     "output_type": "stream",
     "text": [
      "The aquifer is leaky with Kleak 0.001 m/d and Bleak 5 m.\n"
     ]
    }
   ],
   "source": [
    "if AQ7.is_leaky:\n",
    "    print('The aquifer is leaky with Kleak', AQ7.Kleak, 'm/d and Bleak', AQ7.Bleak, 'm.')\n",
    "else:\n",
    "    print('The aquifer is not confined')"
   ]
  },
  {
   "cell_type": "markdown",
   "metadata": {},
   "source": [
    "## 2D unconfined aquifer\n",
    "The default `Aq2dUnconf` aquifer has hydraulic conductivity `K=1`, specific yield `Sy=0.1`, static saturated thickness `B=10` and aquifer bottom (datum) elevation `bot=0`. Exceptions will occur if invalid values are provided for `K`, `Sy` or `B`. The `.info` and `.draw` methods display the aquifer information and diagram."
   ]
  },
  {
   "cell_type": "code",
   "execution_count": 10,
   "metadata": {},
   "outputs": [
    {
     "name": "stdout",
     "output_type": "stream",
     "text": [
      "AQUIFER INFORMATION\n",
      "-------------------\n",
      "Type: 2D, unconfined homogeneous aquifer\n",
      "Name: Unnamed\n",
      "Hydraulic conductivity: 1 [L/T]\n",
      "Specific yield: 0.1 [1]\n",
      "Static saturated thickness: 10 [L]\n",
      "Static transmissivity: 10 [L2/T]\n",
      "Bottom elevation: 0 [RL]\n",
      "Static water level: 10 [RL]\n",
      "\n"
     ]
    },
    {
     "data": {
      "image/png": "[encoded data removed]",
      "text/plain": [
       "<Figure size 432x144 with 1 Axes>"
      ]
     },
     "metadata": {
      "needs_background": "light"
     },
     "output_type": "display_data"
    }
   ],
   "source": [
    "pygaf.Aq2dUnconf().info()\n",
    "pygaf.Aq2dUnconf().draw()"
   ]
  },
  {
   "cell_type": "markdown",
   "metadata": {},
   "source": [
    "Instanciate a non-default aquifer."
   ]
  },
  {
   "cell_type": "code",
   "execution_count": 11,
   "metadata": {},
   "outputs": [
    {
     "name": "stdout",
     "output_type": "stream",
     "text": [
      "AQUIFER INFORMATION\n",
      "-------------------\n",
      "Type: 2D, unconfined homogeneous aquifer\n",
      "Name: Unconfined Aquifer\n",
      "Hydraulic conductivity: 5 [L/T]\n",
      "Specific yield: 0.17 [1]\n",
      "Static saturated thickness: 50 [L]\n",
      "Static transmissivity: 250 [L2/T]\n",
      "Bottom elevation: 150 [RL]\n",
      "Static water level: 200 [RL]\n",
      "\n"
     ]
    },
    {
     "data": {
      "image/png": "[encoded data removed]",
      "text/plain": [
       "<Figure size 432x144 with 1 Axes>"
      ]
     },
     "metadata": {
      "needs_background": "light"
     },
     "output_type": "display_data"
    }
   ],
   "source": [
    "AQ2 = pygaf.Aq2dUnconf(K=5, Sy=0.17, B=50, bot=150, name='Unconfined Aquifer')\n",
    "AQ2.info()\n",
    "AQ2.draw()"
   ]
  },
  {
   "cell_type": "markdown",
   "metadata": {},
   "source": [
    "## 1D finite confined aquifer\n",
    "The default `Aq1dFiniteConf` aquifer class has hydraulic conductivity `K=1`, specific storativity `Ss=0.0001`, aquifer thickness `B=10`, aquifer length `L=1000` and aquifer bottom (datum) elevation `bot=0`. Exceptions will occur if invalid values are provided for `K`, `Ss`, `B` or `L`. The `.info` and `.draw` methods display the aquifer information and diagram."
   ]
  },
  {
   "cell_type": "code",
   "execution_count": 12,
   "metadata": {},
   "outputs": [
    {
     "name": "stdout",
     "output_type": "stream",
     "text": [
      "AQUIFER INFORMATION\n",
      "-------------------\n",
      "Type: 1D, finite, confined homogeneous aquifer\n",
      "Name: Unnamed\n",
      "Hydraulic conductivity: 1 [L/T]\n",
      "Specific storativity: 0.0001 [1/L]\n",
      "Thickness: 10 [L]\n",
      "Length: 1000 [L]\n",
      "Transmissivity: 10 [L2/T]\n",
      "Storage coefficient: 0.001 [1]\n",
      "Diffusivity: 10000.0 [L2/T]\n",
      "Bottom elevation: 0 [RL]\n",
      "Top elevation: 10 [RL]\n",
      "\n"
     ]
    },
    {
     "data": {
      "image/png": "[encoded data removed]",
      "text/plain": [
       "<Figure size 488.16x162.72 with 1 Axes>"
      ]
     },
     "metadata": {
      "needs_background": "light"
     },
     "output_type": "display_data"
    }
   ],
   "source": [
    "pygaf.Aq1dFiniteConf().info()\n",
    "pygaf.Aq1dFiniteConf().draw()"
   ]
  },
  {
   "cell_type": "markdown",
   "metadata": {},
   "source": [
    "Instanciate a non-default aquifer."
   ]
  },
  {
   "cell_type": "code",
   "execution_count": 13,
   "metadata": {},
   "outputs": [
    {
     "name": "stdout",
     "output_type": "stream",
     "text": [
      "AQUIFER INFORMATION\n",
      "-------------------\n",
      "Type: 1D, finite, confined homogeneous aquifer\n",
      "Name: Confined Aquifer\n",
      "Hydraulic conductivity: 8 [L/T]\n",
      "Specific storativity: 6.5e-05 [1/L]\n",
      "Thickness: 10 [L]\n",
      "Length: 1500 [L]\n",
      "Transmissivity: 80 [L2/T]\n",
      "Storage coefficient: 0.00065 [1]\n",
      "Diffusivity: 123076.92307692308 [L2/T]\n",
      "Bottom elevation: 12 [RL]\n",
      "Top elevation: 22 [RL]\n",
      "\n"
     ]
    },
    {
     "data": {
      "image/png": "[encoded data removed]",
      "text/plain": [
       "<Figure size 488.16x162.72 with 1 Axes>"
      ]
     },
     "metadata": {
      "needs_background": "light"
     },
     "output_type": "display_data"
    }
   ],
   "source": [
    "AQ3 = pygaf.Aq1dFiniteConf(K=8, Ss=6.5e-5, bot=12, L=1500, name='Confined Aquifer')\n",
    "AQ3.info()\n",
    "AQ3.draw()"
   ]
  },
  {
   "cell_type": "markdown",
   "metadata": {},
   "source": [
    "## 1D finite unconfined aquifer\n",
    "The default `Aq1dFiniteUnconf` aquifer class is instanciated with hydraulic conductivity `K=1`, specific yield `Sy=0.1`, static saturated thickness `B=10`, aquifer length `L=1000`, aquifer bottom (datum) elevation `bot=0` and drawing width `dw=8`. Exceptions will occur if invalid values are provided for `K`, `Sy`, `B` or `L`."
   ]
  },
  {
   "cell_type": "code",
   "execution_count": 14,
   "metadata": {},
   "outputs": [
    {
     "name": "stdout",
     "output_type": "stream",
     "text": [
      "AQUIFER INFORMATION\n",
      "-------------------\n",
      "Type: 1D, finite, unconfined homogeneous aquifer\n",
      "Name: Unnamed\n",
      "Hydraulic conductivity: 1 [L/T]\n",
      "Specific yield: 0.1 [1]\n",
      "Static saturated thickness: 10 [L]\n",
      "Length: 1000 [L]\n",
      "Static transmissivity: 10 [L2/T]\n",
      "Bottom elevation: 0 [RL]\n",
      "Static water table: 10 [RL]\n",
      "\n"
     ]
    },
    {
     "data": {
      "image/png": "[encoded data removed]",
      "text/plain": [
       "<Figure size 488.16x162.72 with 1 Axes>"
      ]
     },
     "metadata": {
      "needs_background": "light"
     },
     "output_type": "display_data"
    }
   ],
   "source": [
    "pygaf.Aq1dFiniteUnconf().info()\n",
    "pygaf.Aq1dFiniteUnconf().draw()"
   ]
  },
  {
   "cell_type": "markdown",
   "metadata": {},
   "source": [
    "Instanciate a non-default aquifer."
   ]
  },
  {
   "cell_type": "code",
   "execution_count": 15,
   "metadata": {},
   "outputs": [
    {
     "name": "stdout",
     "output_type": "stream",
     "text": [
      "AQUIFER INFORMATION\n",
      "-------------------\n",
      "Type: 1D, finite, unconfined homogeneous aquifer\n",
      "Name: Unconfined Aquifer\n",
      "Hydraulic conductivity: 3.5 [L/T]\n",
      "Specific yield: 0.12 [1]\n",
      "Static saturated thickness: 120 [L]\n",
      "Length: 2000 [L]\n",
      "Static transmissivity: 420.0 [L2/T]\n",
      "Bottom elevation: 0 [RL]\n",
      "Static water table: 120 [RL]\n",
      "\n"
     ]
    },
    {
     "data": {
      "image/png": "[encoded data removed]",
      "text/plain": [
       "<Figure size 488.16x162.72 with 1 Axes>"
      ]
     },
     "metadata": {
      "needs_background": "light"
     },
     "output_type": "display_data"
    }
   ],
   "source": [
    "AQ4 = pygaf.Aq1dFiniteUnconf(K=3.5, Sy=0.12, B=120, L=2000, name='Unconfined Aquifer')\n",
    "AQ4.info()\n",
    "AQ4.draw()"
   ]
  },
  {
   "cell_type": "markdown",
   "metadata": {},
   "source": [
    "## 1D semi-finite confined aquifer\n",
    "The default `Aq1dSemifiniteConf` aquifer class has hydraulic conductivity `K=1`, specific storativity `Ss=0.0001`, aquifer thickness `B=10` and aquifer bottom (datum) elevation `bot=0`. Exceptions will occur if invalid values are provided for `K`, `Ss` or `B`."
   ]
  },
  {
   "cell_type": "code",
   "execution_count": 16,
   "metadata": {},
   "outputs": [
    {
     "name": "stdout",
     "output_type": "stream",
     "text": [
      "AQUIFER INFORMATION\n",
      "-------------------\n",
      "Type: 1D, semi-infinite, confined homogeneous aquifer\n",
      "Name: Unnamed\n",
      "Hydraulic conductivity: 1 [L/T]\n",
      "Specific storativity: 0.0001 [1/L]\n",
      "Thickness: 10 [L]\n",
      "Transmissivity: 10 [L2/T]\n",
      "Storage coefficient: 0.001 [1]\n",
      "Diffusivity: 10000.0 [L2/T]\n",
      "Bottom elevation: 0 [RL]\n",
      "Top elevation: 10 [RL]\n",
      "\n"
     ]
    },
    {
     "data": {
      "image/png": "[encoded data removed]",
      "text/plain": [
       "<Figure size 518.4x172.8 with 1 Axes>"
      ]
     },
     "metadata": {
      "needs_background": "light"
     },
     "output_type": "display_data"
    }
   ],
   "source": [
    "pygaf.Aq1dSemifiniteConf().info()\n",
    "pygaf.Aq1dSemifiniteConf().draw()"
   ]
  },
  {
   "cell_type": "markdown",
   "metadata": {},
   "source": [
    "Instanciate a non-default aquifer."
   ]
  },
  {
   "cell_type": "code",
   "execution_count": 17,
   "metadata": {},
   "outputs": [
    {
     "name": "stdout",
     "output_type": "stream",
     "text": [
      "AQUIFER INFORMATION\n",
      "-------------------\n",
      "Type: 1D, semi-infinite, confined homogeneous aquifer\n",
      "Name: Semi-infinte Confined Aquifer\n",
      "Hydraulic conductivity: 5.5 [L/T]\n",
      "Specific storativity: 0.00055 [1/L]\n",
      "Thickness: 50 [L]\n",
      "Transmissivity: 275.0 [L2/T]\n",
      "Storage coefficient: 0.0275 [1]\n",
      "Diffusivity: 10000.0 [L2/T]\n",
      "Bottom elevation: 0 [RL]\n",
      "Top elevation: 50 [RL]\n",
      "\n"
     ]
    },
    {
     "data": {
      "image/png": "[encoded data removed]",
      "text/plain": [
       "<Figure size 518.4x172.8 with 1 Axes>"
      ]
     },
     "metadata": {
      "needs_background": "light"
     },
     "output_type": "display_data"
    }
   ],
   "source": [
    "AQ5 = pygaf.Aq1dSemifiniteConf(K=5.5, Ss=5.5e-4, B=50, name='Semi-infinte Confined Aquifer')\n",
    "AQ5.info()\n",
    "AQ5.draw(dw=6)"
   ]
  },
  {
   "cell_type": "markdown",
   "metadata": {},
   "source": [
    "## 1D semi-finite unconfined aquifer\n",
    "The default `Aq1dFiniteUnconf` aquifer class has hydraulic conductivity `K=1`, specific yield `Sy=0.1`, static saturated thickness `B=10` and aquifer bottom (datum) elevation `bot=0`. Exceptions will occur if invalid values are provided for `K`, `Sy` or `B`."
   ]
  },
  {
   "cell_type": "code",
   "execution_count": 18,
   "metadata": {},
   "outputs": [
    {
     "name": "stdout",
     "output_type": "stream",
     "text": [
      "AQUIFER INFORMATION\n",
      "-------------------\n",
      "Type: 1D, semi-infinite, unconfined homogeneous aquifer\n",
      "Name: Unnamed\n",
      "Hydraulic conductivity: 1 [L/T]\n",
      "Specific yield: 0.1 [1]\n",
      "Static saturated thickness: 10 [L]\n",
      "Static transmissivity: 10 [L2/T]\n",
      "Bottom elevation: 0 [RL]\n",
      "Static water table: 10 [RL]\n",
      "\n"
     ]
    },
    {
     "data": {
      "image/png": "[encoded data removed]",
      "text/plain": [
       "<Figure size 488.16x162.72 with 1 Axes>"
      ]
     },
     "metadata": {
      "needs_background": "light"
     },
     "output_type": "display_data"
    }
   ],
   "source": [
    "pygaf.Aq1dSemifiniteUnconf().info()\n",
    "pygaf.Aq1dSemifiniteUnconf().draw()"
   ]
  },
  {
   "cell_type": "markdown",
   "metadata": {},
   "source": [
    "Instanciate a non-default aquifer."
   ]
  },
  {
   "cell_type": "code",
   "execution_count": 19,
   "metadata": {},
   "outputs": [
    {
     "name": "stdout",
     "output_type": "stream",
     "text": [
      "AQUIFER INFORMATION\n",
      "-------------------\n",
      "Type: 1D, semi-infinite, unconfined homogeneous aquifer\n",
      "Name: Sem-infinte Uncofined Aquifer\n",
      "Hydraulic conductivity: 100 [L/T]\n",
      "Specific yield: 0.18 [1]\n",
      "Static saturated thickness: 15 [L]\n",
      "Static transmissivity: 1500 [L2/T]\n",
      "Bottom elevation: 433 [RL]\n",
      "Static water table: 448 [RL]\n",
      "\n"
     ]
    },
    {
     "data": {
      "image/png": "[encoded data removed]",
      "text/plain": [
       "<Figure size 488.16x162.72 with 1 Axes>"
      ]
     },
     "metadata": {
      "needs_background": "light"
     },
     "output_type": "display_data"
    }
   ],
   "source": [
    "AQ6 = pygaf.Aq1dSemifiniteUnconf(K=100, Sy=0.18, B=15, bot=433, name='Sem-infinte Uncofined Aquifer')\n",
    "AQ6.info()\n",
    "AQ6.draw()"
   ]
  },
  {
   "cell_type": "code",
   "execution_count": null,
   "metadata": {},
   "outputs": [],
   "source": []
  }
 ],
 "metadata": {
  "kernelspec": {
   "display_name": "Python 3",
   "language": "python",
   "name": "python3"
  },
  "language_info": {
   "codemirror_mode": {
    "name": "ipython",
    "version": 3
   },
   "file_extension": ".py",
   "mimetype": "text/x-python",
   "name": "python",
   "nbconvert_exporter": "python",
   "pygments_lexer": "ipython3",
   "version": "3.7.2"
  }
 },
 "nbformat": 4,
 "nbformat_minor": 4
}
