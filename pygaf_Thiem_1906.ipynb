{
 "cells": [
  {
   "cell_type": "markdown",
   "id": "8bf7123e",
   "metadata": {},
   "source": [
    "# Thiem 1906 well flow solution"
   ]
  },
  {
   "cell_type": "markdown",
   "id": "82bf64b0",
   "metadata": {},
   "source": [
    "Installed `PyGAF` testing."
   ]
  },
  {
   "cell_type": "code",
   "execution_count": 15,
   "id": "95cf0f56",
   "metadata": {},
   "outputs": [],
   "source": [
    "import os\n",
    "import pygaf"
   ]
  },
  {
   "cell_type": "markdown",
   "id": "8d41168e",
   "metadata": {},
   "source": [
    "Local testing."
   ]
  },
  {
   "cell_type": "code",
   "execution_count": 1,
   "id": "480ad4ff",
   "metadata": {},
   "outputs": [],
   "source": [
    "import os\n",
    "import sys\n",
    "sys.path.insert(0, os.path.abspath('../pygaf'))\n",
    "import pygaf"
   ]
  },
  {
   "cell_type": "markdown",
   "id": "f3a1a86a",
   "metadata": {},
   "source": [
    "Help."
   ]
  },
  {
   "cell_type": "code",
   "execution_count": null,
   "id": "37407083",
   "metadata": {
    "scrolled": true
   },
   "outputs": [],
   "source": [
    "help(pygaf.ThiemWell())"
   ]
  },
  {
   "cell_type": "markdown",
   "id": "bde1ab8d",
   "metadata": {},
   "source": [
    "## `ThiemWell` class\n",
    "Instanciate a `ThiemWell` solution object and display the object information."
   ]
  },
  {
   "cell_type": "code",
   "execution_count": 2,
   "id": "2363e686",
   "metadata": {},
   "outputs": [
    {
     "name": "stdout",
     "output_type": "stream",
     "text": [
      "METHOD REFERENCE\n",
      "----------------\n",
      "Thiem G. (1906) - Hydrologische Methoden.\n",
      "\n",
      "Conceptual Model:\n",
      "- Infinite, confined, uniform and homogeneous aquifer.\n",
      "- Steady state radial groundwater flow.\n",
      "- Steady state and fully penetrating well.\n",
      "- No groundwater recharge.\n",
      "\n"
     ]
    }
   ],
   "source": [
    "TW = pygaf.ThiemWell()\n",
    "TW.info()"
   ]
  },
  {
   "cell_type": "markdown",
   "id": "236062d8",
   "metadata": {},
   "source": [
    "The aquifer and well objects of the solution have `PyGAF` default values that are accessed via the `.aq` and `.well` attributes of the solution object.\n",
    "\n",
    "Change selected solution inputs."
   ]
  },
  {
   "cell_type": "code",
   "execution_count": 3,
   "id": "9aea3cbd",
   "metadata": {},
   "outputs": [],
   "source": [
    "TW.aq.name = 'Aquifer 1'\n",
    "TW.aq.K = 2.1\n",
    "TW.aq.Ss = 0.001\n",
    "TW.aq.B = 20\n",
    "TW.aq.bot = 120\n",
    "TW.well.name = 'Well 1'\n",
    "TW.well.q = -500"
   ]
  },
  {
   "cell_type": "markdown",
   "id": "56479d6a",
   "metadata": {},
   "source": [
    "Display information for the aquifer and well objects using the `.info` methods."
   ]
  },
  {
   "cell_type": "code",
   "execution_count": 4,
   "id": "9bc48434",
   "metadata": {},
   "outputs": [
    {
     "name": "stdout",
     "output_type": "stream",
     "text": [
      "AQUIFER INFORMATION\n",
      "-------------------\n",
      "Type: 2D, confined homogeneous aquifer\n",
      "Name: Aquifer 1\n",
      "Hydraulic conductivity: 2.1 [L/T]\n",
      "Specific storativity: 0.001 [1/L]\n",
      "Aquifer thickness: 20 [L]\n",
      "Transmissivity: 42.0 [L2/T]\n",
      "Storage coefficient: 0.02 [1]\n",
      "Diffusivity: 2100.0 [L2/T]\n",
      "Bottom elevation: 120 [RL]\n",
      "Top elevation: 140 [RL]\n",
      "\n",
      "WELL INFORMATION\n",
      "----------------\n",
      "Type: Steady state\n",
      "Name: Well 1\n",
      "Coordinates: 0.0 , 0.0\n",
      "Radius: 0.05 [L]\n",
      "Penetration: 1\n",
      "Well rate: -500 [L3/T]\n",
      "State: extract\n",
      "\n"
     ]
    }
   ],
   "source": [
    "TW.aq.info()\n",
    "TW.well.info()"
   ]
  },
  {
   "cell_type": "markdown",
   "id": "33f4bea5",
   "metadata": {},
   "source": [
    "A drawing of the aquifer can be displayed using the `.draw` method of the aquifer object."
   ]
  },
  {
   "cell_type": "code",
   "execution_count": 5,
   "id": "d5dbbc49",
   "metadata": {},
   "outputs": [
    {
     "data": {
      "image/png": "[encoded data removed]",
      "text/plain": [
       "<Figure size 600x200 with 1 Axes>"
      ]
     },
     "metadata": {},
     "output_type": "display_data"
    }
   ],
   "source": [
    "TW.aq.draw()"
   ]
  },
  {
   "cell_type": "markdown",
   "id": "9306fd4b",
   "metadata": {},
   "source": [
    "## Radial head difference `.hd` method\n",
    "The `.hd` method evaluates the head difference between two radii under a pumping stress; for example, representing the head difference between two observation bores at different radial distances from the pumping bore, or representing the head difference between the pumping bore at its well radius and an observation bore. Default radii are `r1`= 0.1 and `r2`= 1."
   ]
  },
  {
   "cell_type": "code",
   "execution_count": 6,
   "id": "599303ba",
   "metadata": {},
   "outputs": [
    {
     "name": "stdout",
     "output_type": "stream",
     "text": [
      "Aquifer transmissivity: 42.0\n",
      "Pumping rate: -500\n",
      "Pumping state: extract\n",
      "Head difference between radii 0.1 and 1 :\n"
     ]
    },
    {
     "data": {
      "text/plain": [
       "-4.362711898091832"
      ]
     },
     "execution_count": 6,
     "metadata": {},
     "output_type": "execute_result"
    }
   ],
   "source": [
    "TW.hd()"
   ]
  },
  {
   "cell_type": "code",
   "execution_count": 7,
   "id": "0b4d67f9",
   "metadata": {},
   "outputs": [
    {
     "name": "stdout",
     "output_type": "stream",
     "text": [
      "Aquifer transmissivity: 42.0\n",
      "Pumping rate: 500\n",
      "Pumping state: inject\n",
      "Head difference between radii 0.1 and 1 :\n"
     ]
    },
    {
     "data": {
      "text/plain": [
       "4.362711898091832"
      ]
     },
     "execution_count": 7,
     "metadata": {},
     "output_type": "execute_result"
    }
   ],
   "source": [
    "TW.well.q = 500\n",
    "TW.hd(0.1, 1)"
   ]
  },
  {
   "cell_type": "code",
   "execution_count": 8,
   "id": "a0af8160",
   "metadata": {},
   "outputs": [
    {
     "name": "stdout",
     "output_type": "stream",
     "text": [
      "Aquifer transmissivity: 42.0\n",
      "Pumping rate: 500\n",
      "Pumping state: inject\n",
      "Head difference between radii 5 and 100 :\n"
     ]
    },
    {
     "data": {
      "text/plain": [
       "5.676019041857615"
      ]
     },
     "execution_count": 8,
     "metadata": {},
     "output_type": "execute_result"
    }
   ],
   "source": [
    "TW.hd(5,100)"
   ]
  },
  {
   "cell_type": "code",
   "execution_count": null,
   "id": "bff86d92",
   "metadata": {},
   "outputs": [],
   "source": []
  }
 ],
 "metadata": {
  "kernelspec": {
   "display_name": "Python 3 (ipykernel)",
   "language": "python",
   "name": "python3"
  },
  "language_info": {
   "codemirror_mode": {
    "name": "ipython",
    "version": 3
   },
   "file_extension": ".py",
   "mimetype": "text/x-python",
   "name": "python",
   "nbconvert_exporter": "python",
   "pygments_lexer": "ipython3",
   "version": "3.10.9"
  }
 },
 "nbformat": 4,
 "nbformat_minor": 5
}
